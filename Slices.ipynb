{
 "cells": [
  {
   "attachments": {},
   "cell_type": "markdown",
   "metadata": {},
   "source": [
    "### slicing σε λίστα της Python"
   ]
  },
  {
   "attachments": {},
   "cell_type": "markdown",
   "metadata": {},
   "source": [
    "#### <ul><li>Δείκτες</li></ul>"
   ]
  },
  {
   "attachments": {},
   "cell_type": "markdown",
   "metadata": {},
   "source": [
    "Ας θυμηθούμε δύο γνωστές μας συναρτήσεις list()  και enumerate() : "
   ]
  },
  {
   "cell_type": "code",
   "execution_count": 21,
   "metadata": {},
   "outputs": [
    {
     "name": "stdout",
     "output_type": "stream",
     "text": [
      "['a', 'b', 'c']\n",
      "(0, 'a') (1, 'b') (2, 'c')\n"
     ]
    }
   ],
   "source": [
    "print(list('abc'))\n",
    "print(*enumerate(['a','b','c'])) # το αστεράκι (*) ξεπακετάρει κάθε iterable αντικείμενο."
   ]
  },
  {
   "attachments": {},
   "cell_type": "markdown",
   "metadata": {},
   "source": [
    "Ας φτιάξουμε τη παρακάτω εξαμελή λίστα :"
   ]
  },
  {
   "cell_type": "code",
   "execution_count": 2,
   "metadata": {},
   "outputs": [
    {
     "data": {
      "text/plain": [
       "['a_0', 'b_1', 'c_2', 'd_3', 'e_4', 'f_5']"
      ]
     },
     "execution_count": 2,
     "metadata": {},
     "output_type": "execute_result"
    }
   ],
   "source": [
    "lst = [y+'_'+str(x) for (x,y) in enumerate(list('abcdef'))]\n",
    "lst"
   ]
  },
  {
   "attachments": {},
   "cell_type": "markdown",
   "metadata": {},
   "source": [
    "Το μήκος της λίστας είναι το πλήθος των μελών της :"
   ]
  },
  {
   "cell_type": "code",
   "execution_count": 4,
   "metadata": {},
   "outputs": [
    {
     "data": {
      "text/plain": [
       "6"
      ]
     },
     "execution_count": 4,
     "metadata": {},
     "output_type": "execute_result"
    }
   ],
   "source": [
    "length=len(lst)\n",
    "length"
   ]
  },
  {
   "attachments": {},
   "cell_type": "markdown",
   "metadata": {},
   "source": [
    "Κάθε στοιχείο μέσα σε μια λίστα έχει μια μοναδική θέση που το προσδιορίζει.<br>\n",
    "Αυτή η θέση ονομάζεται δείκτης (index) του στοιχείου.<br>\n",
    "Οι δείκτες στην Python ξεκινούν από το 0 και όχι από το 1.<br>\n",
    "Το πρώτο στοιχείο της λίστας έχει δείκτη μηδέν το δεύτερο έχει δείκτη 1 και και ου το καθεξής μέχρι το τελευταίο που έχει δείκτη ένα λιγότερο από το μήκος (πλήθος στοιχείων) της λίστας.<br>\n",
    "Για να προσδιορίσουμε ένα στοιχείο της λίστας γράφουμε lst[index]."
   ]
  },
  {
   "cell_type": "code",
   "execution_count": 8,
   "metadata": {},
   "outputs": [
    {
     "data": {
      "text/plain": [
       "('a_0', 'b_1', 'f_5', 'f_5')"
      ]
     },
     "execution_count": 8,
     "metadata": {},
     "output_type": "execute_result"
    }
   ],
   "source": [
    "lst[0],lst[1],lst[5],lst[length-1]"
   ]
  },
  {
   "attachments": {},
   "cell_type": "markdown",
   "metadata": {},
   "source": [
    "Παρατηρούμε ότι ο δείκτης των στοιχείων της λίστας ταυτίζεται με το δεύτερο συνθετικό τους.<br>"
   ]
  },
  {
   "attachments": {},
   "cell_type": "markdown",
   "metadata": {},
   "source": [
    "* Υπάρχει και αρνητική δεικτοδότηση. <br> Ξεκινά από -1 για το τελευταίο στοιχείο της λίστας, -2 για το προτελευταίο και καταλήγει στον αντίθετο του μήκους της λίστας για το πρώτο στοιχείο της.<br>"
   ]
  },
  {
   "cell_type": "code",
   "execution_count": 9,
   "metadata": {},
   "outputs": [
    {
     "data": {
      "text/plain": [
       "('f_5', 'e_4', 'a_0', 'a_0')"
      ]
     },
     "execution_count": 9,
     "metadata": {},
     "output_type": "execute_result"
    }
   ],
   "source": [
    "lst[-1],lst[-2],lst[-6],lst[-length]"
   ]
  },
  {
   "attachments": {},
   "cell_type": "markdown",
   "metadata": {},
   "source": [
    "* Για να βρούμε τον αρνητικό δείκτη αφαιρούμε το μήκος της λίστας από το θετικό δείκτη.<br>\n",
    "* Αντίστροφα για να βρούμε το θετικό δείκτη προσθέτουμε στον αρνητικό δείκτη το μήκος της λίστας."
   ]
  },
  {
   "attachments": {},
   "cell_type": "markdown",
   "metadata": {},
   "source": [
    "#### <ul><li>slice</li></ul>"
   ]
  },
  {
   "attachments": {},
   "cell_type": "markdown",
   "metadata": {},
   "source": [
    "* Για να φτιάξουμε μια καινούργια λίστα υποσύνολο μιας ήδη υπάρχουσας λίστας (lst) χρησιμοποιείται η έκφραση : <br>lst<b>[</b>start <b>:</b> stop <b>:</b> step<b>]</b> <br> ή ισοδύναμα lst<b>[</b>slc<b>]</b> με το αντικείμενο slc = slice(start,stop,step). <br>Το start είναι ο δείκτης του πρώτου στοιχείου της νέας λίστας και οι δείκτες των υπόλοιπων στοιχείων της προσδιορίζονται από διαδοχικές αθροίσεις με το step (βήμα) χωρίς να ξεπερνιέται ούτε να συμπεριλαμβάνεται η τιμή stop.<br>"
   ]
  },
  {
   "cell_type": "code",
   "execution_count": 22,
   "metadata": {},
   "outputs": [
    {
     "data": {
      "text/plain": [
       "['b_1', 'd_3']"
      ]
     },
     "execution_count": 22,
     "metadata": {},
     "output_type": "execute_result"
    }
   ],
   "source": [
    "lst[1:5:2] # δείκτες είναι : 1,3 το 5 δεν συμπεριλαμβάνεται ούτε ξεπερνιέται."
   ]
  },
  {
   "cell_type": "code",
   "execution_count": 11,
   "metadata": {},
   "outputs": [
    {
     "data": {
      "text/plain": [
       "['b_1', 'd_3']"
      ]
     },
     "execution_count": 11,
     "metadata": {},
     "output_type": "execute_result"
    }
   ],
   "source": [
    "slc = slice(1,5,2) # 1,3\n",
    "lst[slc]"
   ]
  },
  {
   "attachments": {},
   "cell_type": "markdown",
   "metadata": {},
   "source": [
    "* Το βήμα μπορεί να είναι και αρνητικό :"
   ]
  },
  {
   "cell_type": "code",
   "execution_count": 23,
   "metadata": {},
   "outputs": [
    {
     "data": {
      "text/plain": [
       "['f_5', 'e_4', 'd_3']"
      ]
     },
     "execution_count": 23,
     "metadata": {},
     "output_type": "execute_result"
    }
   ],
   "source": [
    "lst[slice(5,2,-1)] # δείκτες είναι 5,4,3 δεν επιτρέπεται ο 2 ή μικρότερος. "
   ]
  },
  {
   "attachments": {},
   "cell_type": "markdown",
   "metadata": {},
   "source": [
    "* Μπορούμε να τροποποιήσουμε μια σειρά τιμών αποδιδοντάς τους μια λίστα με το ίδιο μήκος.<br>\n",
    "Στο επόμενο παράδειγμα φτιάχνουμε τη λίστα upperlst μετατρέποντας σε κεφαλαία γράμματα τα στοιχεία με μονό δείκτη της αρχικής.<br>Τέλος στις ίδιες θέσεις της αρχικής λίστας αποδίδουμε το περιεχόμενο της upperlst :"
   ]
  },
  {
   "cell_type": "code",
   "execution_count": 24,
   "metadata": {},
   "outputs": [
    {
     "name": "stdout",
     "output_type": "stream",
     "text": [
      "['B_1', 'D_3', 'F_5']\n"
     ]
    },
    {
     "data": {
      "text/plain": [
       "['a_0', 'B_1', 'c_2', 'D_3', 'e_4', 'F_5']"
      ]
     },
     "execution_count": 24,
     "metadata": {},
     "output_type": "execute_result"
    }
   ],
   "source": [
    "upperlst = [s.upper() for s in lst[1:6:2]]\n",
    "print(upperlst)\n",
    "lst[1:6:2] = upperlst\n",
    "lst"
   ]
  },
  {
   "attachments": {},
   "cell_type": "markdown",
   "metadata": {},
   "source": [
    "#### Τι συμβαίνει όταν κάποια τιμή start , stop ή step παραλειφθεί ;"
   ]
  },
  {
   "attachments": {},
   "cell_type": "markdown",
   "metadata": {},
   "source": [
    "Όταν λείπει το step δηλαδή lst[2:5] ή ισοδύναμα lst[slice(2,5,None)] τότε υπονοείται 1.<br>"
   ]
  },
  {
   "cell_type": "code",
   "execution_count": 25,
   "metadata": {},
   "outputs": [
    {
     "data": {
      "text/plain": [
       "['c_2', 'D_3', 'e_4']"
      ]
     },
     "execution_count": 25,
     "metadata": {},
     "output_type": "execute_result"
    }
   ],
   "source": [
    "lst[2:5]"
   ]
  },
  {
   "attachments": {},
   "cell_type": "markdown",
   "metadata": {},
   "source": [
    "Ισοδύναμα :"
   ]
  },
  {
   "cell_type": "code",
   "execution_count": 26,
   "metadata": {},
   "outputs": [
    {
     "data": {
      "text/plain": [
       "['c_2', 'D_3', 'e_4']"
      ]
     },
     "execution_count": 26,
     "metadata": {},
     "output_type": "execute_result"
    }
   ],
   "source": [
    "lst[slice(2,5,None)] # ή lst[slice(2,5)]"
   ]
  },
  {
   "attachments": {},
   "cell_type": "markdown",
   "metadata": {},
   "source": [
    "Όταν λείπουν το start ή stop τα πράγματα αλλάζουν κατά περίπτωση αν είναι θετικό ή αρνητικό το step.<br>\n",
    "Για να το καταλάβουμε θα χρησιμοποιήσουμε την μέθοδο indices() του αντικειμένου slice.<br>\n"
   ]
  },
  {
   "attachments": {},
   "cell_type": "markdown",
   "metadata": {},
   "source": [
    "* Η μέθοδος indices(length) του αντικειμένου slice παίρνει για παράμετρο το μήκος της λίστας και επιστρέφει το δείκτη start του πρώτου στοιχείου του slice το δείκτη stop και το βήμα."
   ]
  },
  {
   "cell_type": "code",
   "execution_count": 27,
   "metadata": {},
   "outputs": [
    {
     "data": {
      "text/plain": [
       "(2, 5, 1)"
      ]
     },
     "execution_count": 27,
     "metadata": {},
     "output_type": "execute_result"
    }
   ],
   "source": [
    "slice(2,5,None).indices(length)"
   ]
  },
  {
   "attachments": {},
   "cell_type": "markdown",
   "metadata": {},
   "source": [
    "#### Όταν παραλείπεται το start :"
   ]
  },
  {
   "attachments": {},
   "cell_type": "markdown",
   "metadata": {},
   "source": [
    "##### Με το step είναι θετικό"
   ]
  },
  {
   "cell_type": "code",
   "execution_count": 203,
   "metadata": {},
   "outputs": [
    {
     "data": {
      "text/plain": [
       "(0, 4, 1)"
      ]
     },
     "execution_count": 203,
     "metadata": {},
     "output_type": "execute_result"
    }
   ],
   "source": [
    "slice(None,4,1).indices(length)"
   ]
  },
  {
   "cell_type": "code",
   "execution_count": 28,
   "metadata": {},
   "outputs": [
    {
     "data": {
      "text/plain": [
       "['a_0', 'B_1', 'c_2', 'D_3']"
      ]
     },
     "execution_count": 28,
     "metadata": {},
     "output_type": "execute_result"
    }
   ],
   "source": [
    "lst[:4:1] # ή lst[:4]"
   ]
  },
  {
   "attachments": {},
   "cell_type": "markdown",
   "metadata": {},
   "source": [
    "* Δηλαδή όταν λείπει το start και το βήμα είναι θετικό τότε για start υπονοείται ο δείκτης 0 δηλαδή το slice ξεκινά από το δείκτη 0 του πρώτου στοιχείο της λίστας."
   ]
  },
  {
   "attachments": {},
   "cell_type": "markdown",
   "metadata": {},
   "source": [
    "##### Με το βήμα αρνητικό : "
   ]
  },
  {
   "cell_type": "code",
   "execution_count": 29,
   "metadata": {},
   "outputs": [
    {
     "data": {
      "text/plain": [
       "(5, 2, -1)"
      ]
     },
     "execution_count": 29,
     "metadata": {},
     "output_type": "execute_result"
    }
   ],
   "source": [
    "slc = slice(None,2,-1)\n",
    "slc.indices(length)"
   ]
  },
  {
   "attachments": {},
   "cell_type": "markdown",
   "metadata": {},
   "source": [
    "Στο παραπάνω slice απουσιάζει το start και το step είναι αρνητικό. Βλέπουμε ότι το πρώτο στοιχείο του slice είναι αυτό με το μεγαλύτερο θετικό δείκτη (το τελευταίο στοιχείο της λίστας).<br>\n",
    "<u>Δηλαδή ξεκινά από το τελευταίο στοιχείο της λίστας.</u><br>\n",
    "<u>Tο step είναι αρνητικό οπότε τα υπόλοιπα στοιχεία θα έχουν μειούμενους δείκτες με το τελευταίο στοιχείο να είναι το μικρότερο δυνατό που είναι μεγαλύτερο του stop.</u><br>Για να δούμε :"
   ]
  },
  {
   "cell_type": "code",
   "execution_count": 30,
   "metadata": {},
   "outputs": [
    {
     "data": {
      "text/plain": [
       "['F_5', 'e_4', 'D_3']"
      ]
     },
     "execution_count": 30,
     "metadata": {},
     "output_type": "execute_result"
    }
   ],
   "source": [
    "lst[slc] # ισοδύναμα lst[:2:-1]"
   ]
  },
  {
   "attachments": {},
   "cell_type": "markdown",
   "metadata": {},
   "source": [
    "#### Όταν παραλείπεται το stop."
   ]
  },
  {
   "attachments": {},
   "cell_type": "markdown",
   "metadata": {},
   "source": [
    "##### Με το βήμα θετικό."
   ]
  },
  {
   "cell_type": "code",
   "execution_count": 31,
   "metadata": {},
   "outputs": [
    {
     "data": {
      "text/plain": [
       "(2, 6, 1)"
      ]
     },
     "execution_count": 31,
     "metadata": {},
     "output_type": "execute_result"
    }
   ],
   "source": [
    "slc = slice(2,None,1) # ισοδύναμα slc = slice(2,None)\n",
    "slc.indices(length)"
   ]
  },
  {
   "attachments": {},
   "cell_type": "markdown",
   "metadata": {},
   "source": [
    "* Όταν το step είναι θετικό και το stop παραλείπεται τότε υπονοείται ίσο με το μήκος της λίστας : 6 για να συμπεριληφθούν  όσο το δυνατό περισσότερα στοιχεία της λίστας. <br> Eπειδή το βήμα είναι ίσο με 1 πρέπει να περιλαμβάνονται όλα τα στοιχεία από το start μέχρι το τελευταίο στοιχείο που έχει δείκτη 5 ένα λιγότερο του 6.<br>\n",
    "Για να δούμε :"
   ]
  },
  {
   "cell_type": "code",
   "execution_count": 32,
   "metadata": {},
   "outputs": [
    {
     "data": {
      "text/plain": [
       "['c_2', 'D_3', 'e_4', 'F_5']"
      ]
     },
     "execution_count": 32,
     "metadata": {},
     "output_type": "execute_result"
    }
   ],
   "source": [
    "lst[2:]"
   ]
  },
  {
   "attachments": {},
   "cell_type": "markdown",
   "metadata": {},
   "source": [
    "##### Όταν το step είναι αρνητικό τότε :"
   ]
  },
  {
   "cell_type": "code",
   "execution_count": 33,
   "metadata": {},
   "outputs": [
    {
     "data": {
      "text/plain": [
       "(3, -1, -1)"
      ]
     },
     "execution_count": 33,
     "metadata": {},
     "output_type": "execute_result"
    }
   ],
   "source": [
    "slc = slice(3,None,-1)\n",
    "slc.indices(length)"
   ]
  },
  {
   "attachments": {},
   "cell_type": "markdown",
   "metadata": {},
   "source": [
    "Όταν το stop παραλείπεται και το βήμα είναι αρνητικό τότε για stop υπονοείται -1.<br>\n",
    "Αυτό σημαίνει ότι ο μικρότερος επιτρεπτός δείκτης είναι το 0 (0 > -1).<br>\n",
    "Οπότε το slice θα έχει δείκτες από το 3 μειούμενους κατά 1 δηλ. 3,2,1,0.<br>\n",
    "Για να δούμε :"
   ]
  },
  {
   "cell_type": "code",
   "execution_count": 34,
   "metadata": {},
   "outputs": [
    {
     "data": {
      "text/plain": [
       "['D_3', 'c_2', 'B_1', 'a_0']"
      ]
     },
     "execution_count": 34,
     "metadata": {},
     "output_type": "execute_result"
    }
   ],
   "source": [
    "lst[3::-1]"
   ]
  },
  {
   "attachments": {},
   "cell_type": "markdown",
   "metadata": {},
   "source": [
    "* Είναι δυνατό να παραλείπονται και το start το stop και το  step.  "
   ]
  },
  {
   "cell_type": "code",
   "execution_count": 35,
   "metadata": {},
   "outputs": [
    {
     "data": {
      "text/plain": [
       "(0, 6, 1)"
      ]
     },
     "execution_count": 35,
     "metadata": {},
     "output_type": "execute_result"
    }
   ],
   "source": [
    "slice(None,None,None).indices(length)"
   ]
  },
  {
   "cell_type": "code",
   "execution_count": 36,
   "metadata": {},
   "outputs": [
    {
     "data": {
      "text/plain": [
       "['a_0', 'B_1', 'c_2', 'D_3', 'e_4', 'F_5']"
      ]
     },
     "execution_count": 36,
     "metadata": {},
     "output_type": "execute_result"
    }
   ],
   "source": [
    "newlst = lst[:]\n",
    "newlst"
   ]
  },
  {
   "attachments": {},
   "cell_type": "markdown",
   "metadata": {},
   "source": [
    "Πήραμε ένα αντίγραφο της λίστας που αν τροποποιηθεί δεν επηρεάζεται η αρχική λίστα."
   ]
  },
  {
   "cell_type": "code",
   "execution_count": 37,
   "metadata": {},
   "outputs": [
    {
     "data": {
      "text/plain": [
       "(['a_0', 'B_1', 20, 30, 40, 'F_5'], ['a_0', 'B_1', 'c_2', 'D_3', 'e_4', 'F_5'])"
      ]
     },
     "execution_count": 37,
     "metadata": {},
     "output_type": "execute_result"
    }
   ],
   "source": [
    "newlst[2:5] = [20,30,40]\n",
    "newlst , lst"
   ]
  },
  {
   "attachments": {},
   "cell_type": "markdown",
   "metadata": {},
   "source": [
    "* Τέλος όταν λείπουν το start και το stop αλλά το step είναι αρνητικό :"
   ]
  },
  {
   "cell_type": "code",
   "execution_count": 38,
   "metadata": {},
   "outputs": [
    {
     "data": {
      "text/plain": [
       "(5, -1, -1)"
      ]
     },
     "execution_count": 38,
     "metadata": {},
     "output_type": "execute_result"
    }
   ],
   "source": [
    "slice(None,None,-1).indices(length)"
   ]
  },
  {
   "cell_type": "code",
   "execution_count": 39,
   "metadata": {},
   "outputs": [
    {
     "data": {
      "text/plain": [
       "['F_5', 'e_4', 'D_3', 'c_2', 'B_1', 'a_0']"
      ]
     },
     "execution_count": 39,
     "metadata": {},
     "output_type": "execute_result"
    }
   ],
   "source": [
    "revlist = lst[::-1]\n",
    "revlist"
   ]
  },
  {
   "attachments": {},
   "cell_type": "markdown",
   "metadata": {},
   "source": [
    "Δηλαδή πήραμε την αντίστροφη λίστα.<br>\n",
    "O λόγος είναι ότι επειδή το βήμα είναι αρνητικό το start είναι ο μεγαλύτερος δείκτης ώστε να ξεκινάει από το τελευταίο στοιχείο και το stop το -1 ώστε να περιλαμβάνεται και το πρώτο στοιχείο με δείκτη 0 > -1."
   ]
  }
 ],
 "metadata": {
  "kernelspec": {
   "display_name": "Python 3",
   "language": "python",
   "name": "python3"
  },
  "language_info": {
   "codemirror_mode": {
    "name": "ipython",
    "version": 3
   },
   "file_extension": ".py",
   "mimetype": "text/x-python",
   "name": "python",
   "nbconvert_exporter": "python",
   "pygments_lexer": "ipython3",
   "version": "3.9.2"
  },
  "orig_nbformat": 4
 },
 "nbformat": 4,
 "nbformat_minor": 2
}
