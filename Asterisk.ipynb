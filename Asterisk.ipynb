{
 "cells": [
  {
   "attachments": {},
   "cell_type": "markdown",
   "metadata": {},
   "source": [
    "### Δύο χρήσεις του χαρακτήρα αστερίσκου (*) στη Python"
   ]
  },
  {
   "attachments": {},
   "cell_type": "markdown",
   "metadata": {},
   "source": [
    "### 1. Χρήση στον ορισμό μιας συνάρτησης"
   ]
  },
  {
   "attachments": {},
   "cell_type": "markdown",
   "metadata": {},
   "source": [
    "- Κλασικός ορισμός συνάρτησης που προσθέτει δύο αριθμούς"
   ]
  },
  {
   "cell_type": "code",
   "execution_count": 22,
   "metadata": {},
   "outputs": [],
   "source": [
    "def asum(a,b):\n",
    "    print('a + b =',a+b)\n",
    "    "
   ]
  },
  {
   "cell_type": "code",
   "execution_count": 23,
   "metadata": {},
   "outputs": [
    {
     "name": "stdout",
     "output_type": "stream",
     "text": [
      "a + b = 0\n"
     ]
    }
   ],
   "source": [
    "asum(2,-2)"
   ]
  },
  {
   "attachments": {},
   "cell_type": "markdown",
   "metadata": {},
   "source": [
    "Τι μπορούμε να κάνουμε αν θέλουμε η συνάρτηση να προσθέτει <b>τυχαίο</b> πλήθος αριθμών;\n",
    "<br>Η Python δίνει αυτή τη δυνατότητα χρησιμοποιώντας τον αστερίσκο (*) μπροστά από μία παράμετρο."
   ]
  },
  {
   "cell_type": "code",
   "execution_count": 6,
   "metadata": {},
   "outputs": [],
   "source": [
    "def asum(*args):\n",
    "    print('args :',args)\n",
    "    suma = 0\n",
    "    for a in args:\n",
    "        suma += a        # ισοδύναμο του suma = suma + a\n",
    "    print('suma =' ,suma)"
   ]
  },
  {
   "attachments": {},
   "cell_type": "markdown",
   "metadata": {},
   "source": [
    "* Η παράμετρος (args) συμπεριφέρεται σαν <b>πλειάδα</b> (tuple)\n",
    "* Τώρα η συνάρτηση μπορεί να δεχθεί και να προσθέσει οποιοδήποτε πλήθος αριθμών επιθυμούμε. "
   ]
  },
  {
   "cell_type": "code",
   "execution_count": 7,
   "metadata": {},
   "outputs": [
    {
     "name": "stdout",
     "output_type": "stream",
     "text": [
      "args : (1, -1, 2, -2)\n",
      "suma = 0\n"
     ]
    }
   ],
   "source": [
    "asum(1,-1,2,-2)"
   ]
  },
  {
   "cell_type": "code",
   "execution_count": 8,
   "metadata": {},
   "outputs": [
    {
     "name": "stdout",
     "output_type": "stream",
     "text": [
      "args : (2, -2, 0)\n",
      "suma = 0\n"
     ]
    }
   ],
   "source": [
    "asum(2,-2,0)"
   ]
  },
  {
   "cell_type": "code",
   "execution_count": 9,
   "metadata": {},
   "outputs": [
    {
     "name": "stdout",
     "output_type": "stream",
     "text": [
      "args : (-2,)\n",
      "suma = -2\n"
     ]
    }
   ],
   "source": [
    "asum(-2)"
   ]
  },
  {
   "attachments": {},
   "cell_type": "markdown",
   "metadata": {},
   "source": [
    "### 2. Χρήση κατά τη κλήση μιας συνάρτησης."
   ]
  },
  {
   "attachments": {},
   "cell_type": "markdown",
   "metadata": {},
   "source": [
    "* Τώρα θέλουμε να προσθέσουμε όλους τους αριθμούς μίας λίστας.\n",
    "<br> Για παράδειγμα της :"
   ]
  },
  {
   "cell_type": "code",
   "execution_count": 10,
   "metadata": {},
   "outputs": [],
   "source": [
    "alist = [-2,2,-1,1,0]"
   ]
  },
  {
   "attachments": {},
   "cell_type": "markdown",
   "metadata": {},
   "source": [
    "* Η asum(*args) θα μπορούσε να δεχθεί τα μέλη της alist αν της τα δίναμε το ένα μετά το άλλο.\n",
    "* Υπάρχει τρόπος να ξεπακεταριστεί η λίστα και κάθε στοιχείο της να δοθεί στη συνάρτηση asum(*args).\n",
    "* Αυτός είναι να τοποθετήσουμε ένα αστερίσκο μπροστά στο όνομα της λίστας."
   ]
  },
  {
   "cell_type": "code",
   "execution_count": 11,
   "metadata": {},
   "outputs": [
    {
     "name": "stdout",
     "output_type": "stream",
     "text": [
      "args : (-2, 2, -1, 1, 0)\n",
      "suma = 0\n"
     ]
    }
   ],
   "source": [
    "asum(*alist)"
   ]
  },
  {
   "attachments": {},
   "cell_type": "markdown",
   "metadata": {},
   "source": [
    "* Ο παραπάνω τρόπος κλήσης της asum είναι ισοδύναμος με το λιγότερο πρακτικό : "
   ]
  },
  {
   "cell_type": "code",
   "execution_count": 12,
   "metadata": {},
   "outputs": [
    {
     "name": "stdout",
     "output_type": "stream",
     "text": [
      "args : (-2, 2, -1, 1, 0)\n",
      "suma = 0\n"
     ]
    }
   ],
   "source": [
    "asum(-2,2,-1,1,0)"
   ]
  },
  {
   "attachments": {},
   "cell_type": "markdown",
   "metadata": {},
   "source": [
    "* Η συνάρτηση print() δέχεται παράμετρο με αστερίσκο. "
   ]
  },
  {
   "cell_type": "code",
   "execution_count": 17,
   "metadata": {},
   "outputs": [
    {
     "name": "stdout",
     "output_type": "stream",
     "text": [
      "-2, 2, -1, 1, 0\n"
     ]
    }
   ],
   "source": [
    "print(*alist,sep=', ')"
   ]
  },
  {
   "attachments": {},
   "cell_type": "markdown",
   "metadata": {},
   "source": [
    "* Η χρήση του αστερίσκου (*) εκτός από τις λίστες εφαρμόζεται και μπροστά και σε άλλα αντικείμενα όπως πλειάδες, λεξικά και generators.\n",
    "<br> Όλα τα παραπάνω είναι αντικείμενα Iterable."
   ]
  },
  {
   "cell_type": "code",
   "execution_count": 16,
   "metadata": {},
   "outputs": [
    {
     "name": "stdout",
     "output_type": "stream",
     "text": [
      "k_1, k_2, k_3\n"
     ]
    }
   ],
   "source": [
    "dct = {'k_1':10,'k_2':20,'k_3':30}\n",
    "print(*dct,sep=', ')"
   ]
  }
 ],
 "metadata": {
  "kernelspec": {
   "display_name": "base",
   "language": "python",
   "name": "python3"
  },
  "language_info": {
   "codemirror_mode": {
    "name": "ipython",
    "version": 3
   },
   "file_extension": ".py",
   "mimetype": "text/x-python",
   "name": "python",
   "nbconvert_exporter": "python",
   "pygments_lexer": "ipython3",
   "version": "3.9.2"
  },
  "orig_nbformat": 4
 },
 "nbformat": 4,
 "nbformat_minor": 2
}
