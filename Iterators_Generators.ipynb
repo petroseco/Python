{
 "cells": [
  {
   "attachments": {},
   "cell_type": "markdown",
   "metadata": {},
   "source": [
    "### Iterators και Generators στη Python "
   ]
  },
  {
   "attachments": {},
   "cell_type": "markdown",
   "metadata": {},
   "source": [
    "#### iterators"
   ]
  },
  {
   "attachments": {},
   "cell_type": "markdown",
   "metadata": {},
   "source": [
    "* Στη Python iterator είναι εκείνο το αντικείμενο με μέλη που μπορούμε να τα επαναλάβουμε με ένα βρόγχο for."
   ]
  },
  {
   "attachments": {},
   "cell_type": "markdown",
   "metadata": {},
   "source": [
    "Για παράδειγμα μια λίστα είναι iterator"
   ]
  },
  {
   "cell_type": "code",
   "execution_count": 2,
   "metadata": {},
   "outputs": [
    {
     "name": "stdout",
     "output_type": "stream",
     "text": [
      "a 12 b -2 "
     ]
    }
   ],
   "source": [
    "lst = ['a',12,'b',-2]\n",
    "for i in lst :\n",
    "    print(i,end=' ')"
   ]
  },
  {
   "attachments": {},
   "cell_type": "markdown",
   "metadata": {},
   "source": [
    "Όμοια μια πλειάδα (tuple) είναι iterator"
   ]
  },
  {
   "cell_type": "code",
   "execution_count": 3,
   "metadata": {},
   "outputs": [
    {
     "name": "stdout",
     "output_type": "stream",
     "text": [
      "a 12 3 -5 "
     ]
    }
   ],
   "source": [
    "tpl = ('a',12,'3',-5)\n",
    "for i in tpl :\n",
    "    print(i,end=' ')"
   ]
  },
  {
   "attachments": {},
   "cell_type": "markdown",
   "metadata": {},
   "source": [
    "Αλλά και ένα λεξικό είναι iterator"
   ]
  },
  {
   "cell_type": "code",
   "execution_count": 5,
   "metadata": {},
   "outputs": [
    {
     "name": "stdout",
     "output_type": "stream",
     "text": [
      "key_1 key_2 key_3 "
     ]
    }
   ],
   "source": [
    "dct = {'key_1':12,'key_2':13,'key_3':14}\n",
    "for key in dct :\n",
    "    print(key , end=' ')"
   ]
  },
  {
   "attachments": {},
   "cell_type": "markdown",
   "metadata": {},
   "source": [
    "Τα λεξικά έχουν μια μέθοδο την items() που είναι Iterator και δίνει τα κλειδιά και τις τιμές του σε πλειάδες."
   ]
  },
  {
   "cell_type": "code",
   "execution_count": 6,
   "metadata": {},
   "outputs": [
    {
     "name": "stdout",
     "output_type": "stream",
     "text": [
      "key_1:12 , key_2:13 , key_3:14 , "
     ]
    }
   ],
   "source": [
    "for (key,value) in dct.items():\n",
    "    print('{}:{}'.format(key,value),end=' , ')"
   ]
  },
  {
   "attachments": {},
   "cell_type": "markdown",
   "metadata": {},
   "source": [
    "Ισοδύναμα"
   ]
  },
  {
   "cell_type": "code",
   "execution_count": 7,
   "metadata": {},
   "outputs": [
    {
     "name": "stdout",
     "output_type": "stream",
     "text": [
      "key_1:12 key_2:13 key_3:14 "
     ]
    }
   ],
   "source": [
    "for key in dct:\n",
    "    print('{}:{}'.format(key,dct[key]),end=' ')"
   ]
  },
  {
   "attachments": {},
   "cell_type": "markdown",
   "metadata": {},
   "source": [
    "#### Generators"
   ]
  },
  {
   "attachments": {},
   "cell_type": "markdown",
   "metadata": {},
   "source": [
    "* Είναι συναρτήσεις που δίνουν Iterators αλλά αποδίδουν μόνο μια φορά τα μέλη τους.\n",
    "<br>Αν δοκιμάσουμε και δεύτερη φορά ή θα πάρουμε μήνυμα λάθους ή άδεια λίστα.\n",
    "<br>Παράδειγμα : θα φτιάξουμε ένα generator που μπορεί να παράγει τους αριθμούς από το 10 μέχρι λιγότερο από 30 με βήμα 5:"
   ]
  },
  {
   "cell_type": "code",
   "execution_count": 8,
   "metadata": {},
   "outputs": [
    {
     "name": "stdout",
     "output_type": "stream",
     "text": [
      "<generator object <genexpr> at 0x7cd193294970>\n"
     ]
    }
   ],
   "source": [
    "gnt = (i for i in range(10,30,5))\n",
    "print(gnt)"
   ]
  },
  {
   "attachments": {},
   "cell_type": "markdown",
   "metadata": {},
   "source": [
    "Πήραμε ένα αντικείμενο generator που δεν απασχολεί ακόμη τη μνήμη του υπολογιστή με τα μέλη του όπως κάνει η παρακάτω λίστα."
   ]
  },
  {
   "cell_type": "code",
   "execution_count": 9,
   "metadata": {},
   "outputs": [
    {
     "data": {
      "text/plain": [
       "[10, 15, 20, 25]"
      ]
     },
     "execution_count": 9,
     "metadata": {},
     "output_type": "execute_result"
    }
   ],
   "source": [
    "[i for i in gnt]"
   ]
  },
  {
   "attachments": {},
   "cell_type": "markdown",
   "metadata": {},
   "source": [
    "* Αν ζητήσουμε ξανά τα μέλη του generator θα διαπιστώσουμε ότι είναι άδειος."
   ]
  },
  {
   "cell_type": "code",
   "execution_count": 10,
   "metadata": {},
   "outputs": [
    {
     "data": {
      "text/plain": [
       "[]"
      ]
     },
     "execution_count": 10,
     "metadata": {},
     "output_type": "execute_result"
    }
   ],
   "source": [
    "[i for i in gnt]"
   ]
  },
  {
   "cell_type": "code",
   "execution_count": 12,
   "metadata": {},
   "outputs": [
    {
     "ename": "StopIteration",
     "evalue": "",
     "output_type": "error",
     "traceback": [
      "\u001b[0;31m---------------------------------------------------------------------------\u001b[0m",
      "\u001b[0;31mStopIteration\u001b[0m                             Traceback (most recent call last)",
      "Cell \u001b[0;32mIn [12], line 1\u001b[0m\n\u001b[0;32m----> 1\u001b[0m \u001b[39mnext\u001b[39;49m(gnt)\n",
      "\u001b[0;31mStopIteration\u001b[0m: "
     ]
    }
   ],
   "source": [
    "next(gnt)"
   ]
  },
  {
   "attachments": {},
   "cell_type": "markdown",
   "metadata": {},
   "source": [
    "* Έναv generator μας δίνει η συνάρτηση map(func,iterator) που έχω βρεί πολύ χρήσιμη.\n",
    "<br>Μας δίνει έναν generator με μέλη παραγόμενα από την εφαρμογή μιας συνάρτησης στα μέλη ενός Iterator.\n",
    "<br>Για παράδειγμα ας αρχίσουμε με μια συνάρτηση. "
   ]
  },
  {
   "cell_type": "code",
   "execution_count": 14,
   "metadata": {},
   "outputs": [],
   "source": [
    "def func(x):\n",
    "    return x**2"
   ]
  },
  {
   "attachments": {},
   "cell_type": "markdown",
   "metadata": {},
   "source": [
    "Ας την εφαρμόσουμε στα μέλη μιας λίστας"
   ]
  },
  {
   "cell_type": "code",
   "execution_count": 15,
   "metadata": {},
   "outputs": [
    {
     "data": {
      "text/plain": [
       "<map at 0x7cd1a8418670>"
      ]
     },
     "execution_count": 15,
     "metadata": {},
     "output_type": "execute_result"
    }
   ],
   "source": [
    "lst = [-1,-2,-3]\n",
    "\n",
    "m = map(func,lst)\n",
    "m"
   ]
  },
  {
   "attachments": {},
   "cell_type": "markdown",
   "metadata": {},
   "source": [
    "Ας δούμε τι δίνει το  m ξεπακετάροντας με τον αστερίσκο (*) της Python ."
   ]
  },
  {
   "cell_type": "code",
   "execution_count": 16,
   "metadata": {},
   "outputs": [
    {
     "name": "stdout",
     "output_type": "stream",
     "text": [
      "1 4 9\n"
     ]
    }
   ],
   "source": [
    "print(*m)"
   ]
  },
  {
   "attachments": {},
   "cell_type": "markdown",
   "metadata": {},
   "source": [
    "και αν ξαναζητήσουμε τα μέλη της."
   ]
  },
  {
   "cell_type": "code",
   "execution_count": 17,
   "metadata": {},
   "outputs": [
    {
     "data": {
      "text/plain": [
       "[]"
      ]
     },
     "execution_count": 17,
     "metadata": {},
     "output_type": "execute_result"
    }
   ],
   "source": [
    "[i for i in m]"
   ]
  },
  {
   "attachments": {},
   "cell_type": "markdown",
   "metadata": {},
   "source": [
    "Μια συνάρτηση που δίνει generator είναι η enumerate(iterable,start)"
   ]
  },
  {
   "cell_type": "code",
   "execution_count": 20,
   "metadata": {},
   "outputs": [],
   "source": [
    "e = enumerate(list('abcde'),start=0)"
   ]
  },
  {
   "cell_type": "code",
   "execution_count": 21,
   "metadata": {},
   "outputs": [
    {
     "name": "stdout",
     "output_type": "stream",
     "text": [
      "(0, 'a') (1, 'b') (2, 'c') (3, 'd') (4, 'e')\n"
     ]
    }
   ],
   "source": [
    "print(*e)"
   ]
  },
  {
   "cell_type": "code",
   "execution_count": 22,
   "metadata": {},
   "outputs": [
    {
     "data": {
      "text/plain": [
       "[]"
      ]
     },
     "execution_count": 22,
     "metadata": {},
     "output_type": "execute_result"
    }
   ],
   "source": [
    "list(e)"
   ]
  },
  {
   "cell_type": "code",
   "execution_count": 19,
   "metadata": {},
   "outputs": [
    {
     "name": "stdout",
     "output_type": "stream",
     "text": [
      "key_1:12 , key_2:13 , key_3:14\n"
     ]
    }
   ],
   "source": [
    "print(' , '.join(('{}:{}'.format(i,j) for (i,j) in dct.items())))"
   ]
  }
 ],
 "metadata": {
  "kernelspec": {
   "display_name": "Python 3.9.2 64-bit",
   "language": "python",
   "name": "python3"
  },
  "language_info": {
   "codemirror_mode": {
    "name": "ipython",
    "version": 3
   },
   "file_extension": ".py",
   "mimetype": "text/x-python",
   "name": "python",
   "nbconvert_exporter": "python",
   "pygments_lexer": "ipython3",
   "version": "3.9.2"
  },
  "orig_nbformat": 4,
  "vscode": {
   "interpreter": {
    "hash": "916dbcbb3f70747c44a77c7bcd40155683ae19c65e1c03b4aa3499c5328201f1"
   }
  }
 },
 "nbformat": 4,
 "nbformat_minor": 2
}
