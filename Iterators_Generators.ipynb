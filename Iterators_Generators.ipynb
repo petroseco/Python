{
 "cells": [
  {
   "attachments": {},
   "cell_type": "markdown",
   "metadata": {},
   "source": [
    "### Iterables και Generators στη Python "
   ]
  },
  {
   "attachments": {},
   "cell_type": "markdown",
   "metadata": {},
   "source": [
    "<h3>&#x2022; iterables </h3>"
   ]
  },
  {
   "attachments": {},
   "cell_type": "markdown",
   "metadata": {},
   "source": [
    "* Στη Python iterable είναι κάθε αντικείμενο που μπορούμε να λάβουμε τα μέλη του με ένα βρόγχο for."
   ]
  },
  {
   "attachments": {},
   "cell_type": "markdown",
   "metadata": {},
   "source": [
    "Για παράδειγμα μια λίστα είναι iterable"
   ]
  },
  {
   "cell_type": "code",
   "execution_count": 1,
   "metadata": {},
   "outputs": [
    {
     "name": "stdout",
     "output_type": "stream",
     "text": [
      "a 12 b -2 "
     ]
    }
   ],
   "source": [
    "lst = ['a',12,'b',-2]\n",
    "for i in lst :\n",
    "    print(i,end=' ')"
   ]
  },
  {
   "attachments": {},
   "cell_type": "markdown",
   "metadata": {},
   "source": [
    "Βάλαμε σε ένα βρόγχο for που διατρέχει τα μέλη της λίστας, τη συνάρτηση print με ορίσματα το κάθε μέλος και στη παράμετρο end δώσαμε όρισμα το διάστημα και όχι την default '\\n' (νέα γραμμή) ώστε να τυπωθούν οριζόντια."
   ]
  },
  {
   "attachments": {},
   "cell_type": "markdown",
   "metadata": {},
   "source": [
    "Όμοια μια πλειάδα (tuple) είναι iterable"
   ]
  },
  {
   "cell_type": "code",
   "execution_count": 2,
   "metadata": {},
   "outputs": [
    {
     "name": "stdout",
     "output_type": "stream",
     "text": [
      "a 12 3 -5 "
     ]
    }
   ],
   "source": [
    "tpl = ('a',12,'3',-5)\n",
    "for i in tpl :\n",
    "    print(i,end=' ')"
   ]
  },
  {
   "attachments": {},
   "cell_type": "markdown",
   "metadata": {},
   "source": [
    "Αλλά και ένα λεξικό είναι iterable"
   ]
  },
  {
   "cell_type": "code",
   "execution_count": 3,
   "metadata": {},
   "outputs": [
    {
     "name": "stdout",
     "output_type": "stream",
     "text": [
      "key_1 key_2 key_3 "
     ]
    }
   ],
   "source": [
    "dct = {'key_1':12,'key_2':13,'key_3':14}\n",
    "for key in dct :\n",
    "    print(key , end=' ')"
   ]
  },
  {
   "attachments": {},
   "cell_type": "markdown",
   "metadata": {},
   "source": [
    "Τα λεξικά έχουν μια μέθοδο την items() που είναι iterable και δίνει σε πλειάδες τα κλειδιά και τις τιμές τους.<br><br>Ο παρακάτω εκτύπωση θα δώσει αλφαριθμητικά ('{0}:{1}') που η μεθοδό τους format μέσα στα άγκιστρα (αριστερά και δεξιά της ανω κάτω τελείας) τοποθετεί τα ορίσματα (key,value) που βρίσκει όταν η for διατρέχει το dct.items."
   ]
  },
  {
   "cell_type": "code",
   "execution_count": 4,
   "metadata": {},
   "outputs": [
    {
     "name": "stdout",
     "output_type": "stream",
     "text": [
      "key_1:12 , key_2:13 , key_3:14 , "
     ]
    }
   ],
   "source": [
    "for (key,value) in dct.items():\n",
    "    print('{0}:{1}'.format(key,value),end=' , ')"
   ]
  },
  {
   "attachments": {},
   "cell_type": "markdown",
   "metadata": {},
   "source": [
    "Ισοδύναμα"
   ]
  },
  {
   "cell_type": "code",
   "execution_count": 5,
   "metadata": {},
   "outputs": [
    {
     "name": "stdout",
     "output_type": "stream",
     "text": [
      "key_1:12 , key_2:13 , key_3:14 , "
     ]
    }
   ],
   "source": [
    "for key in dct:\n",
    "    print('{0}:{1}'.format(key,dct[key]),end=' , ')"
   ]
  },
  {
   "attachments": {},
   "cell_type": "markdown",
   "metadata": {},
   "source": [
    "Μας περισσεύει ένα κόμμα που θα δούμε αργότερα πως αντιμετωπίζεται."
   ]
  },
  {
   "attachments": {},
   "cell_type": "markdown",
   "metadata": {},
   "source": [
    "* Τα μέλη όλων των iterable μπορούμε να τα αποδώσουμε στην είσοδο κατάλληλων συναρτήσεων με τη χρήση του χαρακτήρα αστέρα (*)."
   ]
  },
  {
   "cell_type": "code",
   "execution_count": 6,
   "metadata": {},
   "outputs": [
    {
     "name": "stdout",
     "output_type": "stream",
     "text": [
      "a b   2 d\n"
     ]
    }
   ],
   "source": [
    "print(*'ab 2d')"
   ]
  },
  {
   "cell_type": "code",
   "execution_count": 7,
   "metadata": {},
   "outputs": [
    {
     "name": "stdout",
     "output_type": "stream",
     "text": [
      "key_1 key_2 key_3\n"
     ]
    }
   ],
   "source": [
    "print(*dct)"
   ]
  },
  {
   "attachments": {},
   "cell_type": "markdown",
   "metadata": {},
   "source": [
    "* Ένα ακόμη iterble είναι το γνωστό μας range\n",
    "<br>Για παράδειγμα"
   ]
  },
  {
   "cell_type": "code",
   "execution_count": 8,
   "metadata": {},
   "outputs": [
    {
     "name": "stdout",
     "output_type": "stream",
     "text": [
      "10 15 20 25\n",
      "10 15 20 25\n"
     ]
    }
   ],
   "source": [
    "rng = range(10,30,5)\n",
    "print(*rng)\n",
    "print(*rng)"
   ]
  },
  {
   "attachments": {},
   "cell_type": "markdown",
   "metadata": {},
   "source": [
    "<h3>&#x2022; Generators</h3>"
   ]
  },
  {
   "attachments": {},
   "cell_type": "markdown",
   "metadata": {},
   "source": [
    "* Είναι συναρτήσεις που δίνουν iterables αλλά αποδίδουν μόνο μια φορά τα μέλη τους.\n",
    "<br>Αν δοκιμάσουμε και δεύτερη φορά ή θα πάρουμε μήνυμα λάθους ή άδεια λίστα.\n",
    "<br>Παράδειγμα : θα φτιάξουμε ένα generator που μπορεί να παράγει τους αριθμούς από το 10 μέχρι λιγότερο από 30 με βήμα 5:"
   ]
  },
  {
   "cell_type": "code",
   "execution_count": 9,
   "metadata": {},
   "outputs": [
    {
     "name": "stdout",
     "output_type": "stream",
     "text": [
      "<generator object <genexpr> at 0x7fd53f702f20>\n"
     ]
    }
   ],
   "source": [
    "gnt = (i for i in range(10,30,5))\n",
    "print(gnt)"
   ]
  },
  {
   "attachments": {},
   "cell_type": "markdown",
   "metadata": {},
   "source": [
    "Πήραμε ένα αντικείμενο generator που δεν απασχολεί ακόμη τη μνήμη του υπολογιστή με τα μέλη του. <br>Μπορούμε να λάβουμε τα μέλη του στη παρακάτω λίστα πάλι με χρήση του βρόγχου for."
   ]
  },
  {
   "cell_type": "code",
   "execution_count": 10,
   "metadata": {},
   "outputs": [
    {
     "data": {
      "text/plain": [
       "[10, 15, 20, 25]"
      ]
     },
     "execution_count": 10,
     "metadata": {},
     "output_type": "execute_result"
    }
   ],
   "source": [
    "lst=[i for i in gnt]\n",
    "lst"
   ]
  },
  {
   "attachments": {},
   "cell_type": "markdown",
   "metadata": {},
   "source": [
    "* Αν ζητήσουμε ξανά τα μέλη του generator θα διαπιστώσουμε ότι είναι άδειος."
   ]
  },
  {
   "cell_type": "code",
   "execution_count": 11,
   "metadata": {},
   "outputs": [
    {
     "data": {
      "text/plain": [
       "[]"
      ]
     },
     "execution_count": 11,
     "metadata": {},
     "output_type": "execute_result"
    }
   ],
   "source": [
    "[i for i in gnt]"
   ]
  },
  {
   "attachments": {},
   "cell_type": "markdown",
   "metadata": {},
   "source": [
    "* Μια χρήσιμη συνάρτηση που δίνει generator είναι η enumerate(iterable,start)\n",
    "<br>Χρησιμεύει στην αρίθμηση των μελών ενός iterable."
   ]
  },
  {
   "cell_type": "code",
   "execution_count": 12,
   "metadata": {},
   "outputs": [
    {
     "data": {
      "text/plain": [
       "['a', 'b', ' ', '2', 'f']"
      ]
     },
     "execution_count": 12,
     "metadata": {},
     "output_type": "execute_result"
    }
   ],
   "source": [
    "lst = list('ab 2f')\n",
    "lst"
   ]
  },
  {
   "cell_type": "code",
   "execution_count": 13,
   "metadata": {},
   "outputs": [
    {
     "data": {
      "text/plain": [
       "<enumerate at 0x7fd53f72d2c0>"
      ]
     },
     "execution_count": 13,
     "metadata": {},
     "output_type": "execute_result"
    }
   ],
   "source": [
    "enum = enumerate(lst,start=0)\n",
    "enum"
   ]
  },
  {
   "attachments": {},
   "cell_type": "markdown",
   "metadata": {},
   "source": [
    "Ας δούμε τα μέλη του αντικειμένου enum :"
   ]
  },
  {
   "cell_type": "code",
   "execution_count": 14,
   "metadata": {},
   "outputs": [
    {
     "name": "stdout",
     "output_type": "stream",
     "text": [
      "(0, 'a') (1, 'b') (2, ' ') (3, '2') (4, 'f')\n"
     ]
    }
   ],
   "source": [
    "print(*enum)"
   ]
  },
  {
   "attachments": {},
   "cell_type": "markdown",
   "metadata": {},
   "source": [
    "Λάβαμε μια σειρά διμελών πλειάδων με μέλη τον αριθμό της θέσης στη λίστα του στοιχείου και το αντίστοιχο στοιχείο."
   ]
  },
  {
   "attachments": {},
   "cell_type": "markdown",
   "metadata": {},
   "source": [
    "Αν ξαναζητήσουμε τα στοιχεία του αντικειμένου enum θα δούμε ότι έχει αδειάσει"
   ]
  },
  {
   "cell_type": "code",
   "execution_count": 15,
   "metadata": {},
   "outputs": [
    {
     "data": {
      "text/plain": [
       "[]"
      ]
     },
     "execution_count": 15,
     "metadata": {},
     "output_type": "execute_result"
    }
   ],
   "source": [
    "[i for i in enum]"
   ]
  },
  {
   "attachments": {},
   "cell_type": "markdown",
   "metadata": {},
   "source": [
    "* Έναv generator μας δίνει η συνάρτηση map(func,iterable) που έχω βρεί πολύ χρήσιμη.\n",
    "<br>Μας δίνει έναν generator με μέλη παραγόμενα από την εφαρμογή μιας συνάρτησης στα μέλη ενός iterable.\n",
    "<br>Για παράδειγμα ας αρχίσουμε με μια συνάρτηση. "
   ]
  },
  {
   "cell_type": "code",
   "execution_count": 16,
   "metadata": {},
   "outputs": [],
   "source": [
    "def func(x):\n",
    "    return x**2"
   ]
  },
  {
   "attachments": {},
   "cell_type": "markdown",
   "metadata": {},
   "source": [
    "Ας την εφαρμόσουμε στα μέλη μιας λίστας"
   ]
  },
  {
   "cell_type": "code",
   "execution_count": 17,
   "metadata": {},
   "outputs": [
    {
     "data": {
      "text/plain": [
       "<map at 0x7fd53c659fa0>"
      ]
     },
     "execution_count": 17,
     "metadata": {},
     "output_type": "execute_result"
    }
   ],
   "source": [
    "lst = [-1,-2,-3]\n",
    "\n",
    "amap = map(func,lst)\n",
    "amap"
   ]
  },
  {
   "attachments": {},
   "cell_type": "markdown",
   "metadata": {},
   "source": [
    "Ας δούμε τι δίνει η amap ξεπακετάροντας την με τον αστερίσκο (*) της Python."
   ]
  },
  {
   "cell_type": "code",
   "execution_count": 18,
   "metadata": {},
   "outputs": [
    {
     "name": "stdout",
     "output_type": "stream",
     "text": [
      "1 4 9\n"
     ]
    }
   ],
   "source": [
    "print(*amap)"
   ]
  },
  {
   "attachments": {},
   "cell_type": "markdown",
   "metadata": {},
   "source": [
    "και αν ξαναζητήσουμε τα μέλη της."
   ]
  },
  {
   "cell_type": "code",
   "execution_count": 19,
   "metadata": {},
   "outputs": [
    {
     "data": {
      "text/plain": [
       "[]"
      ]
     },
     "execution_count": 19,
     "metadata": {},
     "output_type": "execute_result"
    }
   ],
   "source": [
    "[i for i in amap]"
   ]
  },
  {
   "attachments": {},
   "cell_type": "markdown",
   "metadata": {},
   "source": [
    "Ας δούμε έναν τελευταίο generator.<br>\n",
    "Ο παρακάτω θα γεννήσει αλφαριθμητικά '{0}:{1}' που η μεθοδό τους format τοποθετεί μέσα στα άγκιστρα (αριστερά και δεξιά της ανω κάτω τελείας)  τα ορίσματα (i,j) που βρίσκει όταν η for διατρέχει το dct.items()."
   ]
  },
  {
   "cell_type": "code",
   "execution_count": 20,
   "metadata": {},
   "outputs": [],
   "source": [
    "gen = ('{0}:{1}'.format(i,j) for (i,j) in dct.items())"
   ]
  },
  {
   "cell_type": "code",
   "execution_count": 21,
   "metadata": {},
   "outputs": [
    {
     "data": {
      "text/plain": [
       "<generator object <genexpr> at 0x7fd53c62b2e0>"
      ]
     },
     "execution_count": 21,
     "metadata": {},
     "output_type": "execute_result"
    }
   ],
   "source": [
    "gen"
   ]
  },
  {
   "attachments": {},
   "cell_type": "markdown",
   "metadata": {},
   "source": [
    "* Η παρακάτω μέθοδος του αντικειμένου αλφαριθμητικού '&nbsp; , &nbsp;' συνενώνει γύρω του όλα τα μέλη που θα βρεί στο iterable gen "
   ]
  },
  {
   "cell_type": "code",
   "execution_count": 22,
   "metadata": {},
   "outputs": [
    {
     "name": "stdout",
     "output_type": "stream",
     "text": [
      "key_1:12 , key_2:13 , key_3:14\n"
     ]
    }
   ],
   "source": [
    "print(' , '.join(gen))"
   ]
  }
 ],
 "metadata": {
  "kernelspec": {
   "display_name": "Python 3.9.2 64-bit",
   "language": "python",
   "name": "python3"
  },
  "language_info": {
   "codemirror_mode": {
    "name": "ipython",
    "version": 3
   },
   "file_extension": ".py",
   "mimetype": "text/x-python",
   "name": "python",
   "nbconvert_exporter": "python",
   "pygments_lexer": "ipython3",
   "version": "3.9.2"
  },
  "orig_nbformat": 4,
  "vscode": {
   "interpreter": {
    "hash": "916dbcbb3f70747c44a77c7bcd40155683ae19c65e1c03b4aa3499c5328201f1"
   }
  }
 },
 "nbformat": 4,
 "nbformat_minor": 2
}
